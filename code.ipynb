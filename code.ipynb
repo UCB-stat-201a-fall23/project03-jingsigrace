{
 "cells": [
  {
   "cell_type": "markdown",
   "metadata": {},
   "source": [
    "# 1. Simulation of Markov Process"
   ]
  },
  {
   "cell_type": "markdown",
   "metadata": {},
   "source": [
    "## b"
   ]
  },
  {
   "cell_type": "code",
   "execution_count": 1,
   "metadata": {},
   "outputs": [
    {
     "name": "stdout",
     "output_type": "stream",
     "text": [
      "X1 = 2\n",
      "X2 = 2\n",
      "X3 = 2\n",
      "X4 = 3\n",
      "X5 = 3\n",
      "X6 = 2\n",
      "X7 = 2\n",
      "X8 = 2\n",
      "X9 = 2\n",
      "X10 = 2\n"
     ]
    }
   ],
   "source": [
    "import numpy as np\n",
    "\n",
    "# Transition matrix P\n",
    "P = np.array([[0.2, 0.7, 0.1],\n",
    "              [0.2, 0.5, 0.3],\n",
    "              [0.2, 0.4, 0.4]])\n",
    "\n",
    "# Initial state X0\n",
    "X0 = 1  # Starting from state 1\n",
    "\n",
    "# Number of steps in the chain\n",
    "num_steps = 10  \n",
    "\n",
    "current_state = X0\n",
    "\n",
    "for i in range(num_steps):\n",
    "    # Select the probabilities from the transition matrix for the current state\n",
    "    probabilities = P[current_state - 1]  # -1 because Python starts indexing from 0\n",
    "\n",
    "    # Move to the next state based on the probabilities\n",
    "    next_state = np.random.choice([1, 2, 3], p=probabilities)\n",
    "\n",
    "    # Update the current state\n",
    "    current_state = next_state\n",
    "    print(f\"X{i + 1} = {current_state}\")\n"
   ]
  },
  {
   "cell_type": "markdown",
   "metadata": {},
   "source": [
    "# 2. Stationary Distribution"
   ]
  },
  {
   "cell_type": "markdown",
   "metadata": {},
   "source": [
    "## a"
   ]
  },
  {
   "cell_type": "code",
   "execution_count": 2,
   "metadata": {},
   "outputs": [
    {
     "name": "stdout",
     "output_type": "stream",
     "text": [
      "Theoretical Stationary Distribution (π∞):\n",
      "[0.2        0.51111111 0.28888889]\n"
     ]
    }
   ],
   "source": [
    "import numpy as np\n",
    "\n",
    "# Transpose of P\n",
    "P_transpose = P.T\n",
    "\n",
    "# Identity matrix\n",
    "I = np.identity(len(P))\n",
    "\n",
    "# Solve for the stationary distribution\n",
    "eigenvalues, eigenvectors = np.linalg.eig(P_transpose - I)\n",
    "\n",
    "# Find the eigenvector corresponding to eigenvalue 1 (close to 1)\n",
    "index = np.argmin(abs(eigenvalues - 1))\n",
    "stationary_distribution = np.real(eigenvectors[:, index])\n",
    "\n",
    "# Normalize the stationary distribution vector\n",
    "stationary_distribution /= np.sum(stationary_distribution)\n",
    "\n",
    "print(\"Theoretical Stationary Distribution (π∞):\")\n",
    "print(stationary_distribution)\n"
   ]
  },
  {
   "cell_type": "markdown",
   "metadata": {},
   "source": [
    "## b"
   ]
  },
  {
   "cell_type": "code",
   "execution_count": 9,
   "metadata": {},
   "outputs": [
    {
     "data": {
      "image/png": "[encoded data removed]",
      "text/plain": [
       "<Figure size 432x288 with 1 Axes>"
      ]
     },
     "metadata": {
      "needs_background": "light"
     },
     "output_type": "display_data"
    }
   ],
   "source": [
    "import numpy as np\n",
    "import matplotlib.pyplot as plt\n",
    "\n",
    "# Initial probability distributions π0 (at least two different)\n",
    "pi0_1 = np.array([0.3, 0.4, 0.3])  \n",
    "pi0_2 = np.array([0.1, 0.1, 0.8])  \n",
    "pi0_3 = np.array([0, 0.9, 0.1])  \n",
    "pi0_4 = np.array([0.5, 0.4, 0.1]) \n",
    "\n",
    "# Number of steps\n",
    "num_steps = 50\n",
    "\n",
    "# Compute πi for each initial distribution\n",
    "def calculate_pi_i(pi_0):\n",
    "    pi_i_values = []\n",
    "    for i in range(num_steps):\n",
    "        pi_i = pi_0 @ np.linalg.matrix_power(P, i)\n",
    "        pi_i_values.append(pi_i)\n",
    "    return pi_i_values\n",
    "\n",
    "pi_i_values_1 = calculate_pi_i(pi0_1)\n",
    "pi_i_values_2 = calculate_pi_i(pi0_2)\n",
    "pi_i_values_3 = calculate_pi_i(pi0_3)\n",
    "pi_i_values_4 = calculate_pi_i(pi0_4)\n",
    "\n",
    "# Calculate L2 norm between πi and π∞ for each time step\n",
    "def calculate_norm(pi_i_values, stationary_distribution):\n",
    "    norms = []\n",
    "    for pi_i in pi_i_values:\n",
    "        norm = np.linalg.norm(pi_i - stationary_distribution, ord=2)\n",
    "        norms.append(norm)\n",
    "    return norms\n",
    "\n",
    "norms_1 = calculate_norm(pi_i_values_1, stationary_distribution)\n",
    "norms_2 = calculate_norm(pi_i_values_2, stationary_distribution)\n",
    "norms_3 = calculate_norm(pi_i_values_3, stationary_distribution)\n",
    "norms_4 = calculate_norm(pi_i_values_4, stationary_distribution)\n",
    "\n",
    "# Plot i vs ||πi - π∞||^2\n",
    "plt.plot(range(num_steps), norms_1, label='Initial Distribution 1')\n",
    "plt.plot(range(num_steps), norms_2, label='Initial Distribution 2')\n",
    "plt.plot(range(num_steps), norms_3, label='Initial Distribution 2')\n",
    "plt.plot(range(num_steps), norms_4, label='Initial Distribution 2')\n",
    "plt.xlabel('Time step (i)')\n",
    "plt.ylabel('L2 Norm ||πi - π∞||^2')\n",
    "plt.title('Convergence to Stationary Distribution')\n",
    "plt.legend()\n",
    "plt.grid(True)\n",
    "plt.show()\n"
   ]
  },
  {
   "cell_type": "markdown",
   "metadata": {},
   "source": [
    "# 3. Absorbing state"
   ]
  },
  {
   "cell_type": "markdown",
   "metadata": {},
   "source": [
    "## a"
   ]
  },
  {
   "cell_type": "code",
   "execution_count": 4,
   "metadata": {},
   "outputs": [
    {
     "data": {
      "image/png": "[encoded data removed]",
      "text/plain": [
       "<Figure size 432x288 with 1 Axes>"
      ]
     },
     "metadata": {
      "needs_background": "light"
     },
     "output_type": "display_data"
    },
    {
     "name": "stdout",
     "output_type": "stream",
     "text": [
      "Mean Arrival Time (X0 = 1): 4.592\n",
      "Mean Arrival Time (X0 = 2): 3.834\n"
     ]
    }
   ],
   "source": [
    "import numpy as np\n",
    "import matplotlib.pyplot as plt\n",
    "\n",
    "# Define function to simulate arrival time at state 3\n",
    "def simulate_arrival_time(start_state):\n",
    "    current_state = start_state\n",
    "    time = 0\n",
    "    while current_state != 3:  # Keep simulating until arriving at state 3\n",
    "        probabilities = P[current_state - 1]\n",
    "        current_state = np.random.choice([1, 2, 3], p=probabilities)\n",
    "        time += 1\n",
    "    return time\n",
    "\n",
    "# Number of simulations for each initial state\n",
    "num_simulations = 1000\n",
    "\n",
    "# Simulate arrival times for X0 = 1 and X0 = 2\n",
    "arrival_times_x0_1 = [simulate_arrival_time(1) for _ in range(num_simulations)]\n",
    "arrival_times_x0_2 = [simulate_arrival_time(2) for _ in range(num_simulations)]\n",
    "\n",
    "# Plot histograms together\n",
    "plt.hist(arrival_times_x0_1, bins=30, alpha=0.5, color='blue', label='X0 = 1')\n",
    "plt.hist(arrival_times_x0_2, bins=30, alpha=0.5, color='green', label='X0 = 2')\n",
    "plt.title('Histogram of Arrival Times')\n",
    "plt.xlabel('Arrival Time at State 3')\n",
    "plt.ylabel('Frequency')\n",
    "plt.legend()\n",
    "\n",
    "plt.tight_layout()\n",
    "plt.show()\n",
    "\n",
    "# Compute and print the mean arrival time for both initial states\n",
    "mean_arrival_x0_1 = np.mean(arrival_times_x0_1)\n",
    "mean_arrival_x0_2 = np.mean(arrival_times_x0_2)\n",
    "\n",
    "print(f\"Mean Arrival Time (X0 = 1): {mean_arrival_x0_1}\")\n",
    "print(f\"Mean Arrival Time (X0 = 2): {mean_arrival_x0_2}\")\n"
   ]
  }
 ],
 "metadata": {
  "kernelspec": {
   "display_name": "base",
   "language": "python",
   "name": "python3"
  },
  "language_info": {
   "codemirror_mode": {
    "name": "ipython",
    "version": 3
   },
   "file_extension": ".py",
   "mimetype": "text/x-python",
   "name": "python",
   "nbconvert_exporter": "python",
   "pygments_lexer": "ipython3",
   "version": "3.7.0"
  }
 },
 "nbformat": 4,
 "nbformat_minor": 2
}
